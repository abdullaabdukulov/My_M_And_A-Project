{
 "cells": [
  {
   "cell_type": "markdown",
   "source": [
    "# import libraries"
   ],
   "metadata": {
    "collapsed": false,
    "pycharm": {
     "name": "#%% md\n"
    }
   }
  },
  {
   "cell_type": "code",
   "execution_count": 57,
   "outputs": [],
   "source": [
    "from libraress import librariesMod as ab\n",
    "import pandas as pd"
   ],
   "metadata": {
    "collapsed": false,
    "pycharm": {
     "name": "#%%\n"
    }
   }
  },
  {
   "cell_type": "markdown",
   "source": [
    "# import datasets"
   ],
   "metadata": {
    "collapsed": false,
    "pycharm": {
     "name": "#%% md\n"
    }
   }
  },
  {
   "cell_type": "code",
   "execution_count": 58,
   "outputs": [],
   "source": [
    "table_1 = 'data_sets/only_wood_customer_us_1.csv'\n",
    "table_2 = 'data_sets/only_wood_customer_us_2.csv'\n",
    "table_3 = 'data_sets/only_wood_customer_us_3.csv'"
   ],
   "metadata": {
    "collapsed": false,
    "pycharm": {
     "name": "#%%\n"
    }
   }
  },
  {
   "cell_type": "markdown",
   "source": [
    "# Read_DATA"
   ],
   "metadata": {
    "collapsed": false,
    "pycharm": {
     "name": "#%% md\n"
    }
   }
  },
  {
   "cell_type": "code",
   "execution_count": 59,
   "outputs": [],
   "source": [
    "columns_for_t2 = ['Age', 'City', 'Gender', 'Name', 'Email']\n",
    "df1 = pd.read_csv(table_1)\n",
    "df2 = pd.read_csv(table_2, sep=';', header=None)\n",
    "df2.columns = columns_for_t2\n",
    "df3 = pd.read_csv(table_3, sep=\"\\t|,\", engine='python')"
   ],
   "metadata": {
    "collapsed": false,
    "pycharm": {
     "name": "#%%\n"
    }
   }
  },
  {
   "cell_type": "markdown",
   "source": [
    "# step 1 Clean table 1"
   ],
   "metadata": {
    "collapsed": false,
    "pycharm": {
     "name": "#%% md\n"
    }
   }
  },
  {
   "cell_type": "code",
   "execution_count": 60,
   "outputs": [],
   "source": [
    "df1.Gender = df1.Gender.apply(lambda x: 'Male' if (x == '0') or x.lower() == 'male' or x.lower() == 'm' else 'Female')  #\"\"\"gender clean\"\"\"\n",
    "df1.FirstName = df1.FirstName.apply(ab.f_name)  # Last_Name Clean\n",
    "df1.LastName = df1.LastName.apply(ab.f_name)  # First_Name Clean\n",
    "df1.Email = df1['Email'].apply(lambda x: x.lower())  # Email CLean\n",
    "df1.City = df1.City.apply(lambda x: x.replace('-', ' ').replace('_', ' ').title())  # City Clean\n",
    "df1.Country = df1.Country.apply(lambda x: 'USA')   # Clean Country\n",
    "df1.drop(['UserName'],inplace=True, axis=1) # delete column 'UserName'"
   ],
   "metadata": {
    "collapsed": false,
    "pycharm": {
     "name": "#%%\n"
    }
   }
  },
  {
   "cell_type": "code",
   "execution_count": 61,
   "outputs": [
    {
     "data": {
      "text/plain": "   Gender FirstName     LastName                        Email  Age  \\\n0  Female   Latesha       Barton          forgottoask@woodinc   85   \n1  Female   Yolando         Jast       yolando_jast@yahoo.com   53   \n2    Male     Stacy      Johnson      stacy.johnson@yahoo.com   64   \n3    Male     Abdul       Mayert     mayert.abdul@hotmail.com   79   \n4    Male    Julius      Reinger   reinger_julius@hotmail.com   65   \n5  Female   Liliana      Dubuque    liliana_dubuque@yahoo.com   24   \n6    Male     Ollie  Cruickshank  cruickshank.ollie@gmail.com   89   \n7    Male     Louis     Schiller   louis_schiller@hotmail.com   72   \n8  Female   Verlene        Jones    jones.verlene@hotmail.com   64   \n9    Male  Santiago       Carter    santiago_carter@yahoo.com   34   \n\n           City Country  \n0  Indianapolis     USA  \n1      Columbus     USA  \n2  Indianapolis     USA  \n3       Phoenix     USA  \n4  Jacksonville     USA  \n5      Columbus     USA  \n6       Houston     USA  \n7       Seattle     USA  \n8       Seattle     USA  \n9       Chicago     USA  ",
      "text/html": "<div>\n<style scoped>\n    .dataframe tbody tr th:only-of-type {\n        vertical-align: middle;\n    }\n\n    .dataframe tbody tr th {\n        vertical-align: top;\n    }\n\n    .dataframe thead th {\n        text-align: right;\n    }\n</style>\n<table border=\"1\" class=\"dataframe\">\n  <thead>\n    <tr style=\"text-align: right;\">\n      <th></th>\n      <th>Gender</th>\n      <th>FirstName</th>\n      <th>LastName</th>\n      <th>Email</th>\n      <th>Age</th>\n      <th>City</th>\n      <th>Country</th>\n    </tr>\n  </thead>\n  <tbody>\n    <tr>\n      <th>0</th>\n      <td>Female</td>\n      <td>Latesha</td>\n      <td>Barton</td>\n      <td>forgottoask@woodinc</td>\n      <td>85</td>\n      <td>Indianapolis</td>\n      <td>USA</td>\n    </tr>\n    <tr>\n      <th>1</th>\n      <td>Female</td>\n      <td>Yolando</td>\n      <td>Jast</td>\n      <td>yolando_jast@yahoo.com</td>\n      <td>53</td>\n      <td>Columbus</td>\n      <td>USA</td>\n    </tr>\n    <tr>\n      <th>2</th>\n      <td>Male</td>\n      <td>Stacy</td>\n      <td>Johnson</td>\n      <td>stacy.johnson@yahoo.com</td>\n      <td>64</td>\n      <td>Indianapolis</td>\n      <td>USA</td>\n    </tr>\n    <tr>\n      <th>3</th>\n      <td>Male</td>\n      <td>Abdul</td>\n      <td>Mayert</td>\n      <td>mayert.abdul@hotmail.com</td>\n      <td>79</td>\n      <td>Phoenix</td>\n      <td>USA</td>\n    </tr>\n    <tr>\n      <th>4</th>\n      <td>Male</td>\n      <td>Julius</td>\n      <td>Reinger</td>\n      <td>reinger_julius@hotmail.com</td>\n      <td>65</td>\n      <td>Jacksonville</td>\n      <td>USA</td>\n    </tr>\n    <tr>\n      <th>5</th>\n      <td>Female</td>\n      <td>Liliana</td>\n      <td>Dubuque</td>\n      <td>liliana_dubuque@yahoo.com</td>\n      <td>24</td>\n      <td>Columbus</td>\n      <td>USA</td>\n    </tr>\n    <tr>\n      <th>6</th>\n      <td>Male</td>\n      <td>Ollie</td>\n      <td>Cruickshank</td>\n      <td>cruickshank.ollie@gmail.com</td>\n      <td>89</td>\n      <td>Houston</td>\n      <td>USA</td>\n    </tr>\n    <tr>\n      <th>7</th>\n      <td>Male</td>\n      <td>Louis</td>\n      <td>Schiller</td>\n      <td>louis_schiller@hotmail.com</td>\n      <td>72</td>\n      <td>Seattle</td>\n      <td>USA</td>\n    </tr>\n    <tr>\n      <th>8</th>\n      <td>Female</td>\n      <td>Verlene</td>\n      <td>Jones</td>\n      <td>jones.verlene@hotmail.com</td>\n      <td>64</td>\n      <td>Seattle</td>\n      <td>USA</td>\n    </tr>\n    <tr>\n      <th>9</th>\n      <td>Male</td>\n      <td>Santiago</td>\n      <td>Carter</td>\n      <td>santiago_carter@yahoo.com</td>\n      <td>34</td>\n      <td>Chicago</td>\n      <td>USA</td>\n    </tr>\n  </tbody>\n</table>\n</div>"
     },
     "execution_count": 61,
     "metadata": {},
     "output_type": "execute_result"
    }
   ],
   "source": [
    "df1.head(10)"
   ],
   "metadata": {
    "collapsed": false,
    "pycharm": {
     "name": "#%%\n"
    }
   }
  },
  {
   "cell_type": "markdown",
   "source": [
    "# step 2 Clean table 2"
   ],
   "metadata": {
    "collapsed": false,
    "pycharm": {
     "name": "#%% md\n"
    }
   }
  },
  {
   "cell_type": "code",
   "execution_count": 62,
   "outputs": [],
   "source": [
    "df1.Gender = df1.Gender.apply(lambda x: 'Male' if (x == '0') or x.lower() == 'male' or x.lower() == 'm' else 'Female')  #\"\"\"gender clean\"\"\"\n",
    "df1.FirstName = df1.FirstName.apply(ab.f_name)  # Last_Name Clean\n",
    "df1.LastName = df1.LastName.apply(ab.f_name)  # First_Name Clean\n",
    "df1.Email = df1['Email'].apply(lambda x: x.lower())  # Email CLean\n",
    "df1.City = df1.City.apply(lambda x: x.replace('-', ' ').replace('_', ' ').title())  # City Clean\n",
    "df1.Country = df1.Country.apply(lambda x: 'USA')   # Clean Country\n",
    "# df1.drop(['UserName'],inplace=True, axis=1) # delete column 'UserName'"
   ],
   "metadata": {
    "collapsed": false,
    "pycharm": {
     "name": "#%%\n"
    }
   }
  },
  {
   "cell_type": "code",
   "execution_count": 63,
   "outputs": [],
   "source": [
    "df2.City = df2.City.apply(lambda x: 'Male' if (x == '0') or x.lower() == 'male' or x.lower() == 'm' else 'Female')  #\"\"\"gender clean\"\"\"\n",
    "df2['FirstName'] = df2.Name.apply(ab.re_f_name)\n",
    "df2['LastName'] = df2.Name.apply(ab.re_last_name)\n",
    "df2.drop(['Name'],inplace=True, axis=1) # Delete column 'Name'\n",
    "df2.Email = df2['Email'].apply(lambda x: x.lower() if isinstance(x, str) else x)    # Email CLean\n",
    "df2['Country'] = 'USA'   # create column 'Country'"
   ],
   "metadata": {
    "collapsed": false,
    "pycharm": {
     "name": "#%%\n"
    }
   }
  },
  {
   "cell_type": "code",
   "execution_count": 64,
   "outputs": [
    {
     "data": {
      "text/plain": "       Age    City  Gender                       Email FirstName  LastName  \\\n0       51  Female       1     kutch.lorette@gmail.com   Lorette     Kutch   \n1       84  Female  Female     clorinda.wiza@gmail.com  Clorinda      Wiza   \n2       97  Female    Male     littel.joesph@gmail.com    Joesph    Littel   \n3       90  Female    Male      carlo_stokes@gmail.com     Carlo    Stokes   \n4       57  Female    Male  kasey.prosacco@hotmail.com     Kasey  Prosacco   \n5       65  Female    Male         hahn.will@gmail.com      Will      Hahn   \n6       57  Female  Female      junko_stokes@yahoo.com     Junko    Stokes   \n7       58  Female  Female      paucek.kacey@gmail.com     Kacey    Paucek   \n8       83  Female    Male      zieme_renato@gmail.com    Renato     Zieme   \n9  51years  Female    Male  william_becker@hotmail.com   William    Becker   \n\n  Country  \n0     USA  \n1     USA  \n2     USA  \n3     USA  \n4     USA  \n5     USA  \n6     USA  \n7     USA  \n8     USA  \n9     USA  ",
      "text/html": "<div>\n<style scoped>\n    .dataframe tbody tr th:only-of-type {\n        vertical-align: middle;\n    }\n\n    .dataframe tbody tr th {\n        vertical-align: top;\n    }\n\n    .dataframe thead th {\n        text-align: right;\n    }\n</style>\n<table border=\"1\" class=\"dataframe\">\n  <thead>\n    <tr style=\"text-align: right;\">\n      <th></th>\n      <th>Age</th>\n      <th>City</th>\n      <th>Gender</th>\n      <th>Email</th>\n      <th>FirstName</th>\n      <th>LastName</th>\n      <th>Country</th>\n    </tr>\n  </thead>\n  <tbody>\n    <tr>\n      <th>0</th>\n      <td>51</td>\n      <td>Female</td>\n      <td>1</td>\n      <td>kutch.lorette@gmail.com</td>\n      <td>Lorette</td>\n      <td>Kutch</td>\n      <td>USA</td>\n    </tr>\n    <tr>\n      <th>1</th>\n      <td>84</td>\n      <td>Female</td>\n      <td>Female</td>\n      <td>clorinda.wiza@gmail.com</td>\n      <td>Clorinda</td>\n      <td>Wiza</td>\n      <td>USA</td>\n    </tr>\n    <tr>\n      <th>2</th>\n      <td>97</td>\n      <td>Female</td>\n      <td>Male</td>\n      <td>littel.joesph@gmail.com</td>\n      <td>Joesph</td>\n      <td>Littel</td>\n      <td>USA</td>\n    </tr>\n    <tr>\n      <th>3</th>\n      <td>90</td>\n      <td>Female</td>\n      <td>Male</td>\n      <td>carlo_stokes@gmail.com</td>\n      <td>Carlo</td>\n      <td>Stokes</td>\n      <td>USA</td>\n    </tr>\n    <tr>\n      <th>4</th>\n      <td>57</td>\n      <td>Female</td>\n      <td>Male</td>\n      <td>kasey.prosacco@hotmail.com</td>\n      <td>Kasey</td>\n      <td>Prosacco</td>\n      <td>USA</td>\n    </tr>\n    <tr>\n      <th>5</th>\n      <td>65</td>\n      <td>Female</td>\n      <td>Male</td>\n      <td>hahn.will@gmail.com</td>\n      <td>Will</td>\n      <td>Hahn</td>\n      <td>USA</td>\n    </tr>\n    <tr>\n      <th>6</th>\n      <td>57</td>\n      <td>Female</td>\n      <td>Female</td>\n      <td>junko_stokes@yahoo.com</td>\n      <td>Junko</td>\n      <td>Stokes</td>\n      <td>USA</td>\n    </tr>\n    <tr>\n      <th>7</th>\n      <td>58</td>\n      <td>Female</td>\n      <td>Female</td>\n      <td>paucek.kacey@gmail.com</td>\n      <td>Kacey</td>\n      <td>Paucek</td>\n      <td>USA</td>\n    </tr>\n    <tr>\n      <th>8</th>\n      <td>83</td>\n      <td>Female</td>\n      <td>Male</td>\n      <td>zieme_renato@gmail.com</td>\n      <td>Renato</td>\n      <td>Zieme</td>\n      <td>USA</td>\n    </tr>\n    <tr>\n      <th>9</th>\n      <td>51years</td>\n      <td>Female</td>\n      <td>Male</td>\n      <td>william_becker@hotmail.com</td>\n      <td>William</td>\n      <td>Becker</td>\n      <td>USA</td>\n    </tr>\n  </tbody>\n</table>\n</div>"
     },
     "execution_count": 64,
     "metadata": {},
     "output_type": "execute_result"
    }
   ],
   "source": [
    "df2.head(10)"
   ],
   "metadata": {
    "collapsed": false,
    "pycharm": {
     "name": "#%%\n"
    }
   }
  },
  {
   "cell_type": "markdown",
   "source": [
    "# step 3 Clean table 3"
   ],
   "metadata": {
    "collapsed": false,
    "pycharm": {
     "name": "#%% md\n"
    }
   }
  },
  {
   "cell_type": "code",
   "execution_count": 65,
   "outputs": [],
   "source": [
    "df3['Gender'] = df3.Gender.apply(ab.re_gender)\n",
    "df3['FirstName'] = df3.Name.apply(ab.res_f_name)\n",
    "df3['LastName'] = df3.Name.apply(ab.res_l_name)\n",
    "df3.drop('Name', inplace=True, axis=1)\n",
    "df3.Country = 'USA'\n",
    "df3.Age = df3.Age.apply(lambda x: int(x[9:11]))\n",
    "df3.Email = df3['Email'].apply(lambda x: x[7:].lower() if isinstance(x, str) else x) # Email CLean"
   ],
   "metadata": {
    "collapsed": false,
    "pycharm": {
     "name": "#%%\n"
    }
   }
  },
  {
   "cell_type": "code",
   "execution_count": 66,
   "outputs": [
    {
     "data": {
      "text/plain": "   Gender                         Email  Age                 City Country  \\\n0    Male      dach.kendall@hotmail.com   26        string_Dallas     USA   \n1    Male  jonathon.schneider@gmail.com   91  string_INDIANAPOLIS     USA   \n2    Male  konopelski_jarod@hotmail.com   38       string_Chicago     USA   \n3    Male          upton_glen@gmail.com   30        string_Austin     USA   \n4    Male      ratke.tracey@hotmail.com   51        string_Austin     USA   \n5  Female     robbin_bergnaum@yahoo.com   60    string_Fort-Worth     USA   \n6  Female       larkin.maye@hotmail.com   34      string_SAN_JOSE     USA   \n7  Female        earl.rohan@hotmail.com   19  string_Philadelphia     USA   \n8    Male     donnelly_jeromy@yahoo.com   33       string_Phoenix     USA   \n9  Female         lannie.cole@yahoo.com   70  string_Philadelphia     USA   \n\n  FirstName    LastName  \n0   Kendall        Dach  \n1  Jonathon   Schneider  \n2     Jarod  Konopelski  \n3      Glen       Upton  \n4    Tracey       Ratke  \n5    Robbin    Bergnaum  \n6      Maye      Larkin  \n7      Earl       Rohan  \n8    Jeromy    Donnelly  \n9    Lannie        Cole  ",
      "text/html": "<div>\n<style scoped>\n    .dataframe tbody tr th:only-of-type {\n        vertical-align: middle;\n    }\n\n    .dataframe tbody tr th {\n        vertical-align: top;\n    }\n\n    .dataframe thead th {\n        text-align: right;\n    }\n</style>\n<table border=\"1\" class=\"dataframe\">\n  <thead>\n    <tr style=\"text-align: right;\">\n      <th></th>\n      <th>Gender</th>\n      <th>Email</th>\n      <th>Age</th>\n      <th>City</th>\n      <th>Country</th>\n      <th>FirstName</th>\n      <th>LastName</th>\n    </tr>\n  </thead>\n  <tbody>\n    <tr>\n      <th>0</th>\n      <td>Male</td>\n      <td>dach.kendall@hotmail.com</td>\n      <td>26</td>\n      <td>string_Dallas</td>\n      <td>USA</td>\n      <td>Kendall</td>\n      <td>Dach</td>\n    </tr>\n    <tr>\n      <th>1</th>\n      <td>Male</td>\n      <td>jonathon.schneider@gmail.com</td>\n      <td>91</td>\n      <td>string_INDIANAPOLIS</td>\n      <td>USA</td>\n      <td>Jonathon</td>\n      <td>Schneider</td>\n    </tr>\n    <tr>\n      <th>2</th>\n      <td>Male</td>\n      <td>konopelski_jarod@hotmail.com</td>\n      <td>38</td>\n      <td>string_Chicago</td>\n      <td>USA</td>\n      <td>Jarod</td>\n      <td>Konopelski</td>\n    </tr>\n    <tr>\n      <th>3</th>\n      <td>Male</td>\n      <td>upton_glen@gmail.com</td>\n      <td>30</td>\n      <td>string_Austin</td>\n      <td>USA</td>\n      <td>Glen</td>\n      <td>Upton</td>\n    </tr>\n    <tr>\n      <th>4</th>\n      <td>Male</td>\n      <td>ratke.tracey@hotmail.com</td>\n      <td>51</td>\n      <td>string_Austin</td>\n      <td>USA</td>\n      <td>Tracey</td>\n      <td>Ratke</td>\n    </tr>\n    <tr>\n      <th>5</th>\n      <td>Female</td>\n      <td>robbin_bergnaum@yahoo.com</td>\n      <td>60</td>\n      <td>string_Fort-Worth</td>\n      <td>USA</td>\n      <td>Robbin</td>\n      <td>Bergnaum</td>\n    </tr>\n    <tr>\n      <th>6</th>\n      <td>Female</td>\n      <td>larkin.maye@hotmail.com</td>\n      <td>34</td>\n      <td>string_SAN_JOSE</td>\n      <td>USA</td>\n      <td>Maye</td>\n      <td>Larkin</td>\n    </tr>\n    <tr>\n      <th>7</th>\n      <td>Female</td>\n      <td>earl.rohan@hotmail.com</td>\n      <td>19</td>\n      <td>string_Philadelphia</td>\n      <td>USA</td>\n      <td>Earl</td>\n      <td>Rohan</td>\n    </tr>\n    <tr>\n      <th>8</th>\n      <td>Male</td>\n      <td>donnelly_jeromy@yahoo.com</td>\n      <td>33</td>\n      <td>string_Phoenix</td>\n      <td>USA</td>\n      <td>Jeromy</td>\n      <td>Donnelly</td>\n    </tr>\n    <tr>\n      <th>9</th>\n      <td>Female</td>\n      <td>lannie.cole@yahoo.com</td>\n      <td>70</td>\n      <td>string_Philadelphia</td>\n      <td>USA</td>\n      <td>Lannie</td>\n      <td>Cole</td>\n    </tr>\n  </tbody>\n</table>\n</div>"
     },
     "execution_count": 66,
     "metadata": {},
     "output_type": "execute_result"
    }
   ],
   "source": [
    "df3.head(10)"
   ],
   "metadata": {
    "collapsed": false,
    "pycharm": {
     "name": "#%%\n"
    }
   }
  },
  {
   "cell_type": "markdown",
   "source": [
    "# step 4 Add data"
   ],
   "metadata": {
    "collapsed": false,
    "pycharm": {
     "name": "#%% md\n"
    }
   }
  },
  {
   "cell_type": "code",
   "execution_count": 68,
   "outputs": [],
   "source": [
    "all_df = pd.concat([df1, df2, df3])"
   ],
   "metadata": {
    "collapsed": false,
    "pycharm": {
     "name": "#%%\n"
    }
   }
  },
  {
   "cell_type": "code",
   "execution_count": 69,
   "outputs": [
    {
     "name": "stdout",
     "output_type": "stream",
     "text": [
      "(30000, 7)\n"
     ]
    }
   ],
   "source": [
    "print(all_df.shape)"
   ],
   "metadata": {
    "collapsed": false,
    "pycharm": {
     "name": "#%%\n"
    }
   }
  },
  {
   "cell_type": "code",
   "execution_count": 70,
   "outputs": [
    {
     "data": {
      "text/plain": "   Gender FirstName     LastName                        Email Age  \\\n0  Female   Latesha       Barton          forgottoask@woodinc  85   \n1  Female   Yolando         Jast       yolando_jast@yahoo.com  53   \n2    Male     Stacy      Johnson      stacy.johnson@yahoo.com  64   \n3    Male     Abdul       Mayert     mayert.abdul@hotmail.com  79   \n4    Male    Julius      Reinger   reinger_julius@hotmail.com  65   \n5  Female   Liliana      Dubuque    liliana_dubuque@yahoo.com  24   \n6    Male     Ollie  Cruickshank  cruickshank.ollie@gmail.com  89   \n7    Male     Louis     Schiller   louis_schiller@hotmail.com  72   \n8  Female   Verlene        Jones    jones.verlene@hotmail.com  64   \n9    Male  Santiago       Carter    santiago_carter@yahoo.com  34   \n\n           City Country  \n0  Indianapolis     USA  \n1      Columbus     USA  \n2  Indianapolis     USA  \n3       Phoenix     USA  \n4  Jacksonville     USA  \n5      Columbus     USA  \n6       Houston     USA  \n7       Seattle     USA  \n8       Seattle     USA  \n9       Chicago     USA  ",
      "text/html": "<div>\n<style scoped>\n    .dataframe tbody tr th:only-of-type {\n        vertical-align: middle;\n    }\n\n    .dataframe tbody tr th {\n        vertical-align: top;\n    }\n\n    .dataframe thead th {\n        text-align: right;\n    }\n</style>\n<table border=\"1\" class=\"dataframe\">\n  <thead>\n    <tr style=\"text-align: right;\">\n      <th></th>\n      <th>Gender</th>\n      <th>FirstName</th>\n      <th>LastName</th>\n      <th>Email</th>\n      <th>Age</th>\n      <th>City</th>\n      <th>Country</th>\n    </tr>\n  </thead>\n  <tbody>\n    <tr>\n      <th>0</th>\n      <td>Female</td>\n      <td>Latesha</td>\n      <td>Barton</td>\n      <td>forgottoask@woodinc</td>\n      <td>85</td>\n      <td>Indianapolis</td>\n      <td>USA</td>\n    </tr>\n    <tr>\n      <th>1</th>\n      <td>Female</td>\n      <td>Yolando</td>\n      <td>Jast</td>\n      <td>yolando_jast@yahoo.com</td>\n      <td>53</td>\n      <td>Columbus</td>\n      <td>USA</td>\n    </tr>\n    <tr>\n      <th>2</th>\n      <td>Male</td>\n      <td>Stacy</td>\n      <td>Johnson</td>\n      <td>stacy.johnson@yahoo.com</td>\n      <td>64</td>\n      <td>Indianapolis</td>\n      <td>USA</td>\n    </tr>\n    <tr>\n      <th>3</th>\n      <td>Male</td>\n      <td>Abdul</td>\n      <td>Mayert</td>\n      <td>mayert.abdul@hotmail.com</td>\n      <td>79</td>\n      <td>Phoenix</td>\n      <td>USA</td>\n    </tr>\n    <tr>\n      <th>4</th>\n      <td>Male</td>\n      <td>Julius</td>\n      <td>Reinger</td>\n      <td>reinger_julius@hotmail.com</td>\n      <td>65</td>\n      <td>Jacksonville</td>\n      <td>USA</td>\n    </tr>\n    <tr>\n      <th>5</th>\n      <td>Female</td>\n      <td>Liliana</td>\n      <td>Dubuque</td>\n      <td>liliana_dubuque@yahoo.com</td>\n      <td>24</td>\n      <td>Columbus</td>\n      <td>USA</td>\n    </tr>\n    <tr>\n      <th>6</th>\n      <td>Male</td>\n      <td>Ollie</td>\n      <td>Cruickshank</td>\n      <td>cruickshank.ollie@gmail.com</td>\n      <td>89</td>\n      <td>Houston</td>\n      <td>USA</td>\n    </tr>\n    <tr>\n      <th>7</th>\n      <td>Male</td>\n      <td>Louis</td>\n      <td>Schiller</td>\n      <td>louis_schiller@hotmail.com</td>\n      <td>72</td>\n      <td>Seattle</td>\n      <td>USA</td>\n    </tr>\n    <tr>\n      <th>8</th>\n      <td>Female</td>\n      <td>Verlene</td>\n      <td>Jones</td>\n      <td>jones.verlene@hotmail.com</td>\n      <td>64</td>\n      <td>Seattle</td>\n      <td>USA</td>\n    </tr>\n    <tr>\n      <th>9</th>\n      <td>Male</td>\n      <td>Santiago</td>\n      <td>Carter</td>\n      <td>santiago_carter@yahoo.com</td>\n      <td>34</td>\n      <td>Chicago</td>\n      <td>USA</td>\n    </tr>\n  </tbody>\n</table>\n</div>"
     },
     "execution_count": 70,
     "metadata": {},
     "output_type": "execute_result"
    }
   ],
   "source": [
    "all_df.head(10)"
   ],
   "metadata": {
    "collapsed": false,
    "pycharm": {
     "name": "#%%\n"
    }
   }
  },
  {
   "cell_type": "code",
   "execution_count": 71,
   "outputs": [],
   "source": [
    "# step 5 CSV TO SQL"
   ],
   "metadata": {
    "collapsed": false,
    "pycharm": {
     "name": "#%%\n"
    }
   }
  },
  {
   "cell_type": "code",
   "execution_count": 72,
   "outputs": [
    {
     "data": {
      "text/plain": "30000"
     },
     "execution_count": 72,
     "metadata": {},
     "output_type": "execute_result"
    }
   ],
   "source": [
    "ab.csv_to_sql(all_df)"
   ],
   "metadata": {
    "collapsed": false,
    "pycharm": {
     "name": "#%%\n"
    }
   }
  },
  {
   "cell_type": "code",
   "execution_count": null,
   "outputs": [],
   "source": [],
   "metadata": {
    "collapsed": false,
    "pycharm": {
     "name": "#%%\n"
    }
   }
  }
 ],
 "metadata": {
  "kernelspec": {
   "display_name": "Python 3",
   "language": "python",
   "name": "python3"
  },
  "language_info": {
   "codemirror_mode": {
    "name": "ipython",
    "version": 2
   },
   "file_extension": ".py",
   "mimetype": "text/x-python",
   "name": "python",
   "nbconvert_exporter": "python",
   "pygments_lexer": "ipython2",
   "version": "2.7.6"
  }
 },
 "nbformat": 4,
 "nbformat_minor": 0
}